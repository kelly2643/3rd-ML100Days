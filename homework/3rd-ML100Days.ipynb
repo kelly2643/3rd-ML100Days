{
 "cells": [
  {
   "cell_type": "code",
   "execution_count": 77,
   "metadata": {},
   "outputs": [
    {
     "name": "stderr",
     "output_type": "stream",
     "text": [
      "C:\\Users\\kelly\\Anaconda3\\lib\\importlib\\_bootstrap.py:219: RuntimeWarning: numpy.ufunc size changed, may indicate binary incompatibility. Expected 192 from C header, got 216 from PyObject\n",
      "  return f(*args, **kwds)\n"
     ]
    }
   ],
   "source": [
    "import numpy as np\n",
    "import matplotlib.pyplot as plt\n",
    "import pandas as pd\n",
    "from pandas import DataFrame, Series"
   ]
  },
  {
   "cell_type": "code",
   "execution_count": 3,
   "metadata": {},
   "outputs": [],
   "source": [
    "w = 3\n",
    "b = 0.5"
   ]
  },
  {
   "cell_type": "code",
   "execution_count": 10,
   "metadata": {},
   "outputs": [],
   "source": [
    "x= np.linspace(0, 100, 101)"
   ]
  },
  {
   "cell_type": "code",
   "execution_count": 11,
   "metadata": {},
   "outputs": [],
   "source": [
    "y = (x_lin + np.random.randn(101) * 5) * w + b"
   ]
  },
  {
   "cell_type": "code",
   "execution_count": 12,
   "metadata": {},
   "outputs": [
    {
     "data": {
      "text/plain": [
       "<matplotlib.legend.Legend at 0x1ae64dfff60>"
      ]
     },
     "execution_count": 12,
     "metadata": {},
     "output_type": "execute_result"
    },
    {
     "data": {
      "image/png": "[encoded data removed]",
      "text/plain": [
       "<Figure size 432x288 with 1 Axes>"
      ]
     },
     "metadata": {
      "needs_background": "light"
     },
     "output_type": "display_data"
    }
   ],
   "source": [
    "plt.plot(x_lin,y,'b.',label='data point')\n",
    "plt.title(\"Assume we have data points\")\n",
    "plt.legend(loc = 2)"
   ]
  },
  {
   "cell_type": "code",
   "execution_count": 48,
   "metadata": {},
   "outputs": [],
   "source": [
    "x1=sum(x)\n",
    "y1=sum(y)\n",
    "mx=x.mean()\n",
    "my=y.mean()"
   ]
  },
  {
   "cell_type": "code",
   "execution_count": 24,
   "metadata": {},
   "outputs": [],
   "source": [
    "def s(a):\n",
    "    return a*a\n",
    "\n",
    "def v(a,b):\n",
    "    return a*b"
   ]
  },
  {
   "cell_type": "code",
   "execution_count": 29,
   "metadata": {},
   "outputs": [],
   "source": [
    "xx=sum(s(x))\n",
    "xy=sum(v(x,y))"
   ]
  },
  {
   "cell_type": "code",
   "execution_count": 52,
   "metadata": {},
   "outputs": [
    {
     "data": {
      "text/plain": [
       "(50.0, 153.08191903620747)"
      ]
     },
     "execution_count": 52,
     "metadata": {},
     "output_type": "execute_result"
    }
   ],
   "source": [
    "mx,my"
   ]
  },
  {
   "cell_type": "code",
   "execution_count": 30,
   "metadata": {},
   "outputs": [],
   "source": [
    "b=(101*xy-x1*y1)/(101*xx-x1*x1)"
   ]
  },
  {
   "cell_type": "code",
   "execution_count": 53,
   "metadata": {},
   "outputs": [],
   "source": [
    "a=my-b*mx"
   ]
  },
  {
   "cell_type": "code",
   "execution_count": 54,
   "metadata": {},
   "outputs": [],
   "source": [
    "yyy=b*x+a"
   ]
  },
  {
   "cell_type": "code",
   "execution_count": 60,
   "metadata": {},
   "outputs": [
    {
     "data": {
      "text/plain": [
       "<matplotlib.legend.Legend at 0x1ae6528ada0>"
      ]
     },
     "execution_count": 60,
     "metadata": {},
     "output_type": "execute_result"
    },
    {
     "data": {
      "image/png": "[encoded data removed]",
      "text/plain": [
       "<Figure size 432x288 with 1 Axes>"
      ]
     },
     "metadata": {
      "needs_background": "light"
     },
     "output_type": "display_data"
    }
   ],
   "source": [
    "plt.plot(x, yyy, 'r-', label = 'prediction')\n",
    "plt.plot(x, y, 'b.', label = 'data')\n",
    "plt.legend()"
   ]
  },
  {
   "cell_type": "code",
   "execution_count": 61,
   "metadata": {},
   "outputs": [
    {
     "data": {
      "text/plain": [
       "-1.401756931749759"
      ]
     },
     "execution_count": 61,
     "metadata": {},
     "output_type": "execute_result"
    }
   ],
   "source": [
    "a"
   ]
  },
  {
   "cell_type": "code",
   "execution_count": 62,
   "metadata": {},
   "outputs": [
    {
     "data": {
      "text/plain": [
       "3.0896735193591445"
      ]
     },
     "execution_count": 62,
     "metadata": {},
     "output_type": "execute_result"
    }
   ],
   "source": [
    "b"
   ]
  },
  {
   "cell_type": "code",
   "execution_count": 78,
   "metadata": {},
   "outputs": [
    {
     "data": {
      "text/plain": [
       "(array([  0.,   1.,   2.,   3.,   4.,   5.,   6.,   7.,   8.,   9.,  10.,\n",
       "         11.,  12.,  13.,  14.,  15.,  16.,  17.,  18.,  19.,  20.,  21.,\n",
       "         22.,  23.,  24.,  25.,  26.,  27.,  28.,  29.,  30.,  31.,  32.,\n",
       "         33.,  34.,  35.,  36.,  37.,  38.,  39.,  40.,  41.,  42.,  43.,\n",
       "         44.,  45.,  46.,  47.,  48.,  49.,  50.,  51.,  52.,  53.,  54.,\n",
       "         55.,  56.,  57.,  58.,  59.,  60.,  61.,  62.,  63.,  64.,  65.,\n",
       "         66.,  67.,  68.,  69.,  70.,  71.,  72.,  73.,  74.,  75.,  76.,\n",
       "         77.,  78.,  79.,  80.,  81.,  82.,  83.,  84.,  85.,  86.,  87.,\n",
       "         88.,  89.,  90.,  91.,  92.,  93.,  94.,  95.,  96.,  97.,  98.,\n",
       "         99., 100.]),\n",
       " array([ 1.11016833e+01,  7.56893879e+00,  2.48606629e+01,  8.72348060e+00,\n",
       "         8.09447668e+00,  9.92235333e+00,  1.89880451e+01, -2.84165721e-01,\n",
       "        -1.08074996e+01,  5.48469917e+01,  1.76866980e+01,  3.60160572e+01,\n",
       "         5.38727985e+01,  2.53607979e+01,  5.01138797e+01,  1.96622168e+01,\n",
       "         4.09493372e+01,  6.01751918e+01,  2.97632017e+01,  5.28066129e+01,\n",
       "         6.09169712e+01,  6.65418695e+01,  5.65950045e+01,  4.20994836e+01,\n",
       "         6.82012910e+01,  7.19982025e+01,  6.91035448e+01,  7.81972436e+01,\n",
       "         8.90986187e+01,  7.90283732e+01,  9.11462183e+01,  1.01459466e+02,\n",
       "         1.25943374e+02,  9.44746998e+01,  1.04861437e+02,  1.31272229e+02,\n",
       "         1.05787181e+02,  1.14838768e+02,  1.10573653e+02,  1.14979301e+02,\n",
       "         1.39806198e+02,  1.54822906e+02,  1.22033130e+02,  1.28549395e+02,\n",
       "         1.27593237e+02,  1.30757756e+02,  1.57480952e+02,  1.35014590e+02,\n",
       "         1.46388718e+02,  1.80686682e+02,  1.74376703e+02,  1.26019668e+02,\n",
       "         1.81410055e+02,  1.71196072e+02,  1.57858514e+02,  1.69192883e+02,\n",
       "         1.84729344e+02,  1.79962565e+02,  1.98674501e+02,  1.93381155e+02,\n",
       "         1.93846492e+02,  1.72776735e+02,  1.92655864e+02,  2.06195586e+02,\n",
       "         1.90006635e+02,  2.11017107e+02,  2.02556812e+02,  2.25869923e+02,\n",
       "         2.09633546e+02,  1.75215319e+02,  1.94200059e+02,  2.20488495e+02,\n",
       "         2.26690634e+02,  2.19026456e+02,  2.14790437e+02,  1.98705712e+02,\n",
       "         2.46718481e+02,  2.31327168e+02,  2.37247617e+02,  2.60934592e+02,\n",
       "         2.44773638e+02,  2.47156749e+02,  2.60621490e+02,  2.36141957e+02,\n",
       "         2.52043641e+02,  2.37059299e+02,  2.55980739e+02,  2.71801767e+02,\n",
       "         2.35524032e+02,  2.81454892e+02,  2.99487334e+02,  2.76685306e+02,\n",
       "         2.86691657e+02,  3.06782623e+02,  2.77841615e+02,  2.82364865e+02,\n",
       "         2.92580913e+02,  3.10623761e+02,  3.13382527e+02,  3.03710486e+02,\n",
       "         3.02187148e+02]))"
      ]
     },
     "execution_count": 78,
     "metadata": {},
     "output_type": "execute_result"
    }
   ],
   "source": [
    "x,y"
   ]
  },
  {
   "cell_type": "code",
   "execution_count": 82,
   "metadata": {},
   "outputs": [],
   "source": [
    "def z(w,q):\n",
    "    return (b*w+a-q)**2"
   ]
  },
  {
   "cell_type": "code",
   "execution_count": 84,
   "metadata": {},
   "outputs": [
    {
     "data": {
      "text/plain": [
       "21779.38429175571"
      ]
     },
     "execution_count": 84,
     "metadata": {},
     "output_type": "execute_result"
    }
   ],
   "source": [
    "sum(z(x,y))"
   ]
  },
  {
   "cell_type": "code",
   "execution_count": null,
   "metadata": {},
   "outputs": [],
   "source": []
  }
 ],
 "metadata": {
  "kernelspec": {
   "display_name": "Python 3",
   "language": "python",
   "name": "python3"
  },
  "language_info": {
   "codemirror_mode": {
    "name": "ipython",
    "version": 3
   },
   "file_extension": ".py",
   "mimetype": "text/x-python",
   "name": "python",
   "nbconvert_exporter": "python",
   "pygments_lexer": "ipython3",
   "version": "3.7.3"
  }
 },
 "nbformat": 4,
 "nbformat_minor": 2
}
